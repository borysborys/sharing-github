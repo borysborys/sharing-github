{
 "cells": [
  {
   "cell_type": "code",
   "execution_count": null,
   "metadata": {},
   "outputs": [],
   "source": [
    "#DAY 1\n",
    "f = open(\"day1.txt\")\n",
    "lines = f.readlines()"
   ]
  },
  {
   "cell_type": "code",
   "execution_count": null,
   "metadata": {},
   "outputs": [],
   "source": [
    "length = len(lines)\n",
    "sum=0\n",
    "a=set()\n",
    "for i in range(length):\n",
    "    num= int(lines[i])\n",
    "    sum= sum+num\n",
    "\n",
    "sum\n",
    "\n",
    "    "
   ]
  },
  {
   "cell_type": "code",
   "execution_count": null,
   "metadata": {},
   "outputs": [],
   "source": [
    "length = len(lines)\n",
    "sum=0\n",
    "a=set()\n",
    "flag=True\n",
    "i=0\n",
    "while flag:\n",
    "    if i>=length:\n",
    "        i=0\n",
    "    else:\n",
    "        num= int(lines[i])\n",
    "        sum= sum+num\n",
    "        if sum in a:\n",
    "            flag = False\n",
    "            print(sum)\n",
    "        else:\n",
    "            a.add(sum)\n",
    "            i=i+1\n",
    "            \n",
    "\n"
   ]
  },
  {
   "cell_type": "code",
   "execution_count": null,
   "metadata": {},
   "outputs": [],
   "source": [
    "#DAY 2\n",
    "f = open(\"day2.txt\")\n",
    "lines = f.readlines()\n",
    "f.close()"
   ]
  },
  {
   "cell_type": "code",
   "execution_count": null,
   "metadata": {},
   "outputs": [],
   "source": [
    "def clearlines(list):\n",
    "    for i in range(len(list)):\n",
    "        list[i]=list[i][:-1]\n",
    "    return list\n",
    "    "
   ]
  },
  {
   "cell_type": "code",
   "execution_count": null,
   "metadata": {},
   "outputs": [],
   "source": [
    "lines= clearlines(lines)"
   ]
  },
  {
   "cell_type": "code",
   "execution_count": null,
   "metadata": {},
   "outputs": [],
   "source": [
    "def double_triple(line):\n",
    "    a=\"\"\n",
    "    double=0\n",
    "    triple=0\n",
    "    for eachChar in line:\n",
    "        if eachChar not in a: \n",
    "            sum=0\n",
    "            for elseChar in line:\n",
    "                if eachChar == elseChar:\n",
    "                    sum=sum+1\n",
    "            if sum==2:\n",
    "                double=double+1\n",
    "            elif sum>=3:\n",
    "                triple=triple+1\n",
    "            a=a+eachChar\n",
    "    return(double,triple)\n",
    "\n",
    "            "
   ]
  },
  {
   "cell_type": "code",
   "execution_count": null,
   "metadata": {},
   "outputs": [],
   "source": [
    "def checkSum(list):\n",
    "    list_length= len(list)\n",
    "    double=0\n",
    "    triple=0\n",
    "    for i in range(list_length):\n",
    "        dt=double_triple(list[i])\n",
    "        if dt[0]>=1:\n",
    "            double=double+1\n",
    "        if dt[1]>=1:\n",
    "            triple=triple+1\n",
    "    checksum=double*triple\n",
    "    return(checksum)\n",
    "        \n",
    "        "
   ]
  },
  {
   "cell_type": "code",
   "execution_count": null,
   "metadata": {},
   "outputs": [],
   "source": [
    "checkSum(lines)"
   ]
  },
  {
   "cell_type": "code",
   "execution_count": null,
   "metadata": {},
   "outputs": [],
   "source": [
    "def num_of_noncommon_letters(line1,line2):\n",
    "    notcommon=0\n",
    "    length=len(line2)\n",
    "    i=0\n",
    "    for i in range(length):\n",
    "        if line1[i]!=line2[i]:\n",
    "            notcommon+=1\n",
    "    return(notcommon)\n",
    "            "
   ]
  },
  {
   "cell_type": "code",
   "execution_count": null,
   "metadata": {},
   "outputs": [],
   "source": [
    "def common_letters(line1, line2):\n",
    "    com=\"\"\n",
    "    length=len(line1)\n",
    "    i=0\n",
    "    for i in range(length):\n",
    "        if line1[i]==line2[i]:\n",
    "            com=com+line1[i]\n",
    "    return (com)"
   ]
  },
  {
   "cell_type": "code",
   "execution_count": null,
   "metadata": {},
   "outputs": [],
   "source": [
    "def find_fabric_id(lst):\n",
    "    lst_length=len(lst)\n",
    "    found= False\n",
    "    j=0\n",
    "    k=0\n",
    "    while j<lst_length and not found:\n",
    "        k=j+1\n",
    "        while k<lst_length and not found:\n",
    "            if num_of_noncommon_letters(lst[j],lst[k])== 1:\n",
    "                found= True\n",
    "            else:\n",
    "                k+=1\n",
    "        j+=1\n",
    "    if found:\n",
    "        return(common_letters(lst[j-1], lst[k]))\n",
    "    else:\n",
    "        return(\"zero\")"
   ]
  },
  {
   "cell_type": "code",
   "execution_count": null,
   "metadata": {},
   "outputs": [],
   "source": [
    "def find_fabric_id2(lst):\n",
    "    lst_length=len(lst)\n",
    "    j=0\n",
    "    for j in range(lst_length):\n",
    "        for k in range(lst_length):\n",
    "            if num_of_noncommon_letters(lst[j],lst[k])== 1:\n",
    "                return(common_letters(lst[j], lst[k]))\n",
    "            "
   ]
  },
  {
   "cell_type": "code",
   "execution_count": null,
   "metadata": {},
   "outputs": [],
   "source": [
    "find_fabric_id(lines)"
   ]
  },
  {
   "cell_type": "code",
   "execution_count": null,
   "metadata": {},
   "outputs": [],
   "source": [
    "find_fabric_id2(lines)"
   ]
  },
  {
   "cell_type": "code",
   "execution_count": null,
   "metadata": {},
   "outputs": [],
   "source": [
    "#DAY3\n",
    "f = open(\"day3.txt\", \"r\")\n",
    "lines = f.readlines()\n",
    "f.close()"
   ]
  },
  {
   "cell_type": "code",
   "execution_count": null,
   "metadata": {},
   "outputs": [],
   "source": [
    "lines=[x.split() for x in lines]"
   ]
  },
  {
   "cell_type": "code",
   "execution_count": null,
   "metadata": {},
   "outputs": [],
   "source": [
    "def getid(line):\n",
    "    myid=int((line[0].split('#'))[1])\n",
    "    return (myid)\n",
    "    \n",
    "    \n",
    "    "
   ]
  },
  {
   "cell_type": "code",
   "execution_count": null,
   "metadata": {},
   "outputs": [],
   "source": [
    "def getxpos(line):\n",
    "    xpos=int((line[2].split(':')[0]).split(',')[0])\n",
    "    return (xpos)"
   ]
  },
  {
   "cell_type": "code",
   "execution_count": null,
   "metadata": {},
   "outputs": [],
   "source": [
    "def getypos(line):\n",
    "    ypos=int((line[2].split(':')[0]).split(',')[1])\n",
    "    return (ypos)"
   ]
  },
  {
   "cell_type": "code",
   "execution_count": null,
   "metadata": {},
   "outputs": [],
   "source": [
    "def getxsize(line):\n",
    "    xsize=int((line[3].split('x')[0]))\n",
    "    return (xsize)\n"
   ]
  },
  {
   "cell_type": "code",
   "execution_count": null,
   "metadata": {},
   "outputs": [],
   "source": [
    "def getysize(line):\n",
    "    ysize=int((line[3].split('x')[1]))\n",
    "    return (ysize)\n"
   ]
  },
  {
   "cell_type": "code",
   "execution_count": null,
   "metadata": {},
   "outputs": [],
   "source": [
    "def maxx(lineslist):\n",
    "    i=0\n",
    "    maxx=0\n",
    "    for i in range(len(lineslist)):\n",
    "        xrange=getxpos(lineslist[i])+getxsize(lineslist[i])\n",
    "        if xrange>maxx:\n",
    "            maxx=xrange\n",
    "    return(maxx)"
   ]
  },
  {
   "cell_type": "code",
   "execution_count": null,
   "metadata": {},
   "outputs": [],
   "source": [
    "def maxy(lineslist):\n",
    "    i=0\n",
    "    maxy=0\n",
    "    for i in range(len(lineslist)):\n",
    "        yrange=getypos(lineslist[i])+getysize(lineslist[i])\n",
    "        if yrange>maxy:\n",
    "            maxy=yrange\n",
    "    return(maxy)"
   ]
  },
  {
   "cell_type": "code",
   "execution_count": null,
   "metadata": {},
   "outputs": [],
   "source": [
    "print(maxx(lines))\n",
    "print(maxy(lines))\n"
   ]
  },
  {
   "cell_type": "code",
   "execution_count": null,
   "metadata": {},
   "outputs": [],
   "source": [
    "def howmanyintersect(lineslist):\n",
    "    count=0\n",
    "    for x in range(maxx(lineslist)):\n",
    "        for y in range(maxy(lineslist)):\n",
    "            intersect1=False\n",
    "            intersect2=False\n",
    "            for i in range(len(lineslist)):\n",
    "                if x>=getxpos(lineslist[i]) and x<=getxpos(lineslist[i])+getxsize(lineslist[i]):\n",
    "                    if y>=getypos(lineslist[i]) and y<=getypos(lineslist[i])+getysize(lineslist[i]):\n",
    "                        if intersect1:\n",
    "                            intersect2=True\n",
    "                        else:\n",
    "                            intersect1=True\n",
    "            if intersect2:\n",
    "                count+=1\n",
    "                \n",
    "    return(count)\n",
    "            "
   ]
  },
  {
   "cell_type": "code",
   "execution_count": null,
   "metadata": {},
   "outputs": [],
   "source": [
    "def howmanyintersect2(lineslist):\n",
    "    count=0\n",
    "    for x in range(maxx(lineslist)):\n",
    "        for y in range(maxy(lineslist)):\n",
    "            intersect1=False\n",
    "            intersect2=False\n",
    "            i=0\n",
    "            while i<len(lineslist) and not intersect2:\n",
    "                if x>=getxpos(lineslist[i]) and x<getxpos(lineslist[i])+getxsize(lineslist[i]):\n",
    "                    if y>=getypos(lineslist[i]) and y<getypos(lineslist[i])+getysize(lineslist[i]):\n",
    "                        if intersect1:\n",
    "                            intersect2=True\n",
    "                        else:\n",
    "                            intersect1=True\n",
    "                i+=1\n",
    "            if intersect2:\n",
    "                count+=1\n",
    "                \n",
    "    return(count)"
   ]
  },
  {
   "cell_type": "code",
   "execution_count": null,
   "metadata": {},
   "outputs": [],
   "source": [
    "def howmanyintersect3(lineslist):\n",
    "    count=0\n",
    "    for x in range(maxx(lineslist)):\n",
    "        for y in range(maxy(lineslist)):\n",
    "            intersect1=False\n",
    "            intersect2=False\n",
    "            for i in range(len(lineslist)):\n",
    "                if x>=getxpos(lineslist[i]) and x<getxpos(lineslist[i])+getxsize(lineslist[i]):\n",
    "                    if y>=getypos(lineslist[i]) and y<getypos(lineslist[i])+getysize(lineslist[i]):\n",
    "                        if intersect1:\n",
    "                            intersect2=True\n",
    "                        else:\n",
    "                            intersect1=True\n",
    "            if intersect2:\n",
    "                count+=1\n",
    "                \n",
    "    return(count)"
   ]
  },
  {
   "cell_type": "code",
   "execution_count": null,
   "metadata": {},
   "outputs": [],
   "source": [
    "#the fastest one\n",
    "def howmanyintersect4(lineslist):\n",
    "    a=set()\n",
    "    b=set()\n",
    "    for line in lineslist:\n",
    "        xpos=getxpos(line)\n",
    "        ypos=getypos(line)\n",
    "        xsize=getxsize(line)\n",
    "        ysize=getysize(line)\n",
    "        for x in range(xpos,(xpos+xsize)):\n",
    "            for y in range(ypos,(ypos+ysize)):\n",
    "                if (x,y) in a:\n",
    "                    b.add((x,y))\n",
    "                else:\n",
    "                    a.add((x,y))\n",
    "    return(len(b))\n",
    "                    \n",
    "                    \n",
    "            \n",
    "        \n",
    "        \n",
    "    "
   ]
  },
  {
   "cell_type": "code",
   "execution_count": null,
   "metadata": {},
   "outputs": [],
   "source": [
    "howmanyintersect4(lines)"
   ]
  },
  {
   "cell_type": "code",
   "execution_count": null,
   "metadata": {},
   "outputs": [],
   "source": [
    "#part2\n",
    "def twointersect(line1,line2):\n",
    "    intersect=False\n",
    "    x1pos=getxpos(line1)\n",
    "    y1pos=getypos(line1)\n",
    "    x1size=getxsize(line1)\n",
    "    y1size=getysize(line1)\n",
    "    x2pos=getxpos(line2)\n",
    "    y2pos=getypos(line2)\n",
    "    x2size=getxsize(line2)\n",
    "    y2size=getysize(line2)\n",
    "    a=set()\n",
    "    for x1 in range(x1pos,(x1pos+x1size)):\n",
    "        for y1 in range(y1pos,(y1pos+y1size)):\n",
    "            a.add((x1,y1))\n",
    "    for x2 in range(x2pos,(x2pos+x2size)):\n",
    "        for y2 in range(y2pos, (y2pos+y2size)):\n",
    "            if (x2,y2) in a:\n",
    "                intersect=True\n",
    "                return(intersect)\n",
    "    return(intersect)"
   ]
  },
  {
   "cell_type": "code",
   "execution_count": null,
   "metadata": {},
   "outputs": [],
   "source": [
    "twointersect(lines[1], lines[2])"
   ]
  },
  {
   "cell_type": "code",
   "execution_count": null,
   "metadata": {},
   "outputs": [],
   "source": [
    "def which_intact(lineslist):\n",
    "    a=set()\n",
    "    b=set()\n",
    "    for line1 in lineslist:\n",
    "        a.add(getid(line1))\n",
    "        for line2 in lineslist:\n",
    "            if not getid(line2) in a:\n",
    "                if twointersect(line1,line2):\n",
    "                    b.add(getid(line1))\n",
    "                    b.add(getid(line2))\n",
    "    return(a.difference(b))\n",
    "        \n"
   ]
  },
  {
   "cell_type": "code",
   "execution_count": null,
   "metadata": {},
   "outputs": [],
   "source": [
    "which_intact(lines)"
   ]
  },
  {
   "cell_type": "code",
   "execution_count": null,
   "metadata": {},
   "outputs": [],
   "source": []
  }
 ],
 "metadata": {
  "kernelspec": {
   "display_name": "Python 3",
   "language": "python",
   "name": "python3"
  },
  "language_info": {
   "codemirror_mode": {
    "name": "ipython",
    "version": 3
   },
   "file_extension": ".py",
   "mimetype": "text/x-python",
   "name": "python",
   "nbconvert_exporter": "python",
   "pygments_lexer": "ipython3",
   "version": "3.5.4"
  }
 },
 "nbformat": 4,
 "nbformat_minor": 2
}
